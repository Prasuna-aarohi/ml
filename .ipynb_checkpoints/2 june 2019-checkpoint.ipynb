{
 "cells": [
  {
   "cell_type": "markdown",
   "metadata": {},
   "source": [
    "# Take a string “Problem Solving Using Python”\n",
    "#Find the length of the string\n",
    "#Change the string to lowercase\n",
    "#Print the string in reverse order\n",
    "#Split the string\n",
    "#Print the string without spaces\n",
    "#Find how many times “s” is repeated in a given string"
   ]
  },
  {
   "cell_type": "code",
   "execution_count": 10,
   "metadata": {},
   "outputs": [
    {
     "name": "stdout",
     "output_type": "stream",
     "text": [
      "Problem Solving Using Python\n",
      "28\n",
      "nohtyP gnisU gnivloS melborP\n",
      "['Problem', 'Solving', 'Using', 'Python']\n",
      "problem solving using python\n"
     ]
    }
   ],
   "source": [
    "inp=input()\n",
    "print(len(inp))\n",
    "print(inp[::-1])\n",
    "print(inp.split())\n",
    "print(inp.lower())"
   ]
  },
  {
   "cell_type": "code",
   "execution_count": 33,
   "metadata": {},
   "outputs": [
    {
     "name": "stdout",
     "output_type": "stream",
     "text": [
      "ProblemSolvingUsingPython\n",
      "2\n"
     ]
    }
   ],
   "source": [
    "c=0\n",
    "for i in inp:\n",
    "    if i=='s' or i=='S':\n",
    "        c=c+1\n",
    "    if i==' ':\n",
    "        continue\n",
    "    else:\n",
    "        print(i,end=\"\")\n",
    "print(end=\"\\n\")\n",
    "print(c)"
   ]
  },
  {
   "cell_type": "markdown",
   "metadata": {},
   "source": [
    "Take a string “python programming by python platforms”, Find how many times “python” is repeated "
   ]
  },
  {
   "cell_type": "code",
   "execution_count": 45,
   "metadata": {},
   "outputs": [
    {
     "name": "stdout",
     "output_type": "stream",
     "text": [
      "python programming by python platforms\n",
      "2\n"
     ]
    }
   ],
   "source": [
    "inp=input().split()\n",
    "p=0\n",
    "for i in inp:\n",
    "    if i=='python':\n",
    "        p=p+1\n",
    "print(p)"
   ]
  },
  {
   "cell_type": "markdown",
   "metadata": {},
   "source": [
    "Convert: sTrinG to String"
   ]
  },
  {
   "cell_type": "code",
   "execution_count": 49,
   "metadata": {},
   "outputs": [
    {
     "name": "stdout",
     "output_type": "stream",
     "text": [
      "sTrinG\n",
      "String\n"
     ]
    }
   ],
   "source": [
    "inp=input()\n",
    "print(inp.capitalize())"
   ]
  },
  {
   "cell_type": "markdown",
   "metadata": {},
   "source": [
    "Add Spaces between each letter \"s t r i n g\""
   ]
  },
  {
   "cell_type": "code",
   "execution_count": 53,
   "metadata": {},
   "outputs": [
    {
     "name": "stdout",
     "output_type": "stream",
     "text": [
      "string\n",
      "s t r i n g \n"
     ]
    }
   ],
   "source": [
    "inp=input()\n",
    "r=''\n",
    "for i in inp:\n",
    "    r=r+i+' '\n",
    "print(r)"
   ]
  },
  {
   "cell_type": "markdown",
   "metadata": {},
   "source": [
    "convert \"python\" to   *******python*******    by using string method"
   ]
  },
  {
   "cell_type": "code",
   "execution_count": 11,
   "metadata": {},
   "outputs": [
    {
     "name": "stdout",
     "output_type": "stream",
     "text": [
      "python\n"
     ]
    },
    {
     "data": {
      "text/plain": [
       "'***python***'"
      ]
     },
     "execution_count": 11,
     "metadata": {},
     "output_type": "execute_result"
    }
   ],
   "source": [
    "inp=input()\n",
    "inp.center(12,'*')"
   ]
  },
  {
   "cell_type": "markdown",
   "metadata": {},
   "source": [
    "Maximum length: Print the words which length has maximum if multiple names has max length print that names in same line.\n",
    "\n",
    "Sample Input : krishna aditya ram eshwer\n",
    "\n",
    "Sample output : krishna"
   ]
  },
  {
   "cell_type": "code",
   "execution_count": null,
   "metadata": {},
   "outputs": [],
   "source": [
    "inp=input().split()\n",
    "n=[]\n",
    "for i in inp:\n",
    "    n.append(len(i))\n",
    "for i in inp:\n",
    "    if len(i)==max(n):\n",
    "        print(i)"
   ]
  },
  {
   "cell_type": "markdown",
   "metadata": {},
   "source": [
    "Two Strings: Given two strings of equal length, you have to tell whether they both strings are identical. \n",
    "\n",
    "Input Format: abc cab\n",
    "\n",
    "Output Format:\"YES\" "
   ]
  },
  {
   "cell_type": "code",
   "execution_count": 3,
   "metadata": {},
   "outputs": [
    {
     "name": "stdout",
     "output_type": "stream",
     "text": [
      "abc cab\n",
      "YES\n"
     ]
    }
   ],
   "source": [
    "inp=input().split()\n",
    "f=sorted(inp[0])\n",
    "s=sorted(inp[1])\n",
    "if f==s:\n",
    "    print(\"YES\")\n",
    "else:\n",
    "    print(\"NO\")\n"
   ]
  },
  {
   "cell_type": "markdown",
   "metadata": {},
   "source": [
    "Print the names which has duplicate characters\n",
    "\n",
    "names=\"Apollo Brix Chichi krish\"\n",
    "\n",
    "output: Apollo Chichi"
   ]
  },
  {
   "cell_type": "code",
   "execution_count": 6,
   "metadata": {},
   "outputs": [
    {
     "name": "stdout",
     "output_type": "stream",
     "text": [
      "Apollo Brix Chichi krish\n",
      "Apollo Chichi "
     ]
    }
   ],
   "source": [
    "inp=input().split()\n",
    "for i in inp:\n",
    "    for j in i:\n",
    "        c=0\n",
    "        for k in i:\n",
    "            if j==k:\n",
    "                c=c+1\n",
    "        if c>=2:\n",
    "            print(i,end=\" \")\n",
    "            break"
   ]
  },
  {
   "cell_type": "markdown",
   "metadata": {},
   "source": [
    "Take a string as input and return a string with vowels removed.\n",
    "\n",
    "sentence = 'My name is Aarshay Jain!'\n",
    "\n",
    "Output = \"My nm s Arshy Jn!\""
   ]
  },
  {
   "cell_type": "code",
   "execution_count": 3,
   "metadata": {},
   "outputs": [
    {
     "name": "stdout",
     "output_type": "stream",
     "text": [
      "My name is Aarshay Jain!\n",
      "My nm s Arshy Jn!\n"
     ]
    }
   ],
   "source": [
    "inp=input()\n",
    "v='aeiou'\n",
    "for i in v:\n",
    "    inp=inp.replace(i,\"\")\n",
    "print(inp)"
   ]
  },
  {
   "cell_type": "markdown",
   "metadata": {},
   "source": [
    "sum the digits\n",
    "\n",
    "h8r76v7hj9s7n9"
   ]
  },
  {
   "cell_type": "code",
   "execution_count": 5,
   "metadata": {},
   "outputs": [
    {
     "name": "stdout",
     "output_type": "stream",
     "text": [
      "h8r76v7hj9s7n9\n",
      "53\n"
     ]
    }
   ],
   "source": [
    "inp=input()\n",
    "s=0\n",
    "for i in inp:\n",
    "    if i.isdigit():\n",
    "        s=s+int(i)\n",
    "print(s)"
   ]
  },
  {
   "cell_type": "markdown",
   "metadata": {},
   "source": [
    "Using a list comprehension, create a new list called \"newlist\" out of the list \"numbers\", which contains only the positive numbers from the list, as integers. \n",
    "\n",
    "numbers = [34.6, -203.4, 44.9, 68.3, -12.2, 44.6, 12.7]\n",
    "\n",
    "Output : [34.6, 44.9, 68.3, 44.6, 12.7]"
   ]
  },
  {
   "cell_type": "code",
   "execution_count": 7,
   "metadata": {},
   "outputs": [
    {
     "name": "stdout",
     "output_type": "stream",
     "text": [
      "3\n",
      "4\n",
      "4\n",
      "5\n",
      "\n",
      "[3, 4, 4, 5]\n"
     ]
    }
   ],
   "source": [
    "try:\n",
    "    l=[]\n",
    "    while True:\n",
    "        l.append(int(input()))\n",
    "except:\n",
    "    print(l)"
   ]
  },
  {
   "cell_type": "code",
   "execution_count": 20,
   "metadata": {},
   "outputs": [
    {
     "name": "stdout",
     "output_type": "stream",
     "text": [
      "23 -4 5 8 -9\n",
      "[23, 5, 8]\n"
     ]
    }
   ],
   "source": [
    "inp=input().split()\n",
    "re=[int(i) for i in inp if int(i)>0]\n",
    "print(re)"
   ]
  },
  {
   "cell_type": "markdown",
   "metadata": {},
   "source": [
    "sum the digits of given string: 13B15A84R7 using List comprehension"
   ]
  },
  {
   "cell_type": "code",
   "execution_count": 18,
   "metadata": {},
   "outputs": [
    {
     "name": "stdout",
     "output_type": "stream",
     "text": [
      "13B15A84R7\n",
      "29\n"
     ]
    }
   ],
   "source": [
    "inp=input()\n",
    "s=0\n",
    "re=[int(i) for i in inp if i.isdigit()]\n",
    "print(sum(re))"
   ]
  },
  {
   "cell_type": "code",
   "execution_count": null,
   "metadata": {},
   "outputs": [],
   "source": []
  }
 ],
 "metadata": {
  "kernelspec": {
   "display_name": "Python 3",
   "language": "python",
   "name": "python3"
  },
  "language_info": {
   "codemirror_mode": {
    "name": "ipython",
    "version": 3
   },
   "file_extension": ".py",
   "mimetype": "text/x-python",
   "name": "python",
   "nbconvert_exporter": "python",
   "pygments_lexer": "ipython3",
   "version": "3.7.4"
  }
 },
 "nbformat": 4,
 "nbformat_minor": 2
}
