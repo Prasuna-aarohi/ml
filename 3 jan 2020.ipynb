{
 "cells": [
  {
   "cell_type": "markdown",
   "metadata": {},
   "source": [
    "Take two list of same length as input and return a dictionary with one as keys and other as values. \n",
    "\n",
    "country = ['India', 'Pakistan', 'Nepal', 'Bhutan', 'China', 'Bangladesh']\n",
    "\n",
    "capital = ['New Delhi', 'Islamabad','Kathmandu', 'Thimphu', 'Beijing', 'Dhaka']\n",
    "\n",
    "Output : {'India': 'New Delhi','Pakistan': 'Islamabad','Nepal':'Kathmandu','Bhutan': 'Thimphu','China': 'Beijing','Bangladesh': 'Dhaka'}"
   ]
  },
  {
   "cell_type": "code",
   "execution_count": 1,
   "metadata": {},
   "outputs": [
    {
     "name": "stdout",
     "output_type": "stream",
     "text": [
      "{'India': 'New Delhi', 'Pakistan': 'Islambad', 'Nepal': 'Kathmandu', 'Bhutan': 'Thimphu', 'China': 'Beijing', 'Bangladesh': 'Dhaka'}\n"
     ]
    }
   ],
   "source": [
    "country=['India','Pakistan','Nepal','Bhutan','China','Bangladesh']\n",
    "capital=['New Delhi','Islambad','Kathmandu','Thimphu','Beijing','Dhaka']\n",
    "print(dict(zip(country,capital)))"
   ]
  },
  {
   "cell_type": "markdown",
   "metadata": {},
   "source": [
    "Take a dictionary of keys and list of values. print the output as follows\n",
    "\n",
    "key1 : ['name1' , 'branch1']\n",
    "\n",
    "key2 : ['name2' , 'branch2']"
   ]
  },
  {
   "cell_type": "code",
   "execution_count": 12,
   "metadata": {},
   "outputs": [
    {
     "name": "stdout",
     "output_type": "stream",
     "text": [
      "dict_items([('key1', ['name1', 'branch1']), ('key2', ['name2', 'branch2'])])\n",
      "key1 : ['name1', 'branch1']\n",
      "key2 : ['name2', 'branch2']\n"
     ]
    }
   ],
   "source": [
    "d={\"key1\":['name1','branch1'],\"key2\":['name2','branch2']}\n",
    "print(d.items())\n",
    "for i in d:\n",
    "    print(i,':',d[i])"
   ]
  },
  {
   "cell_type": "code",
   "execution_count": 13,
   "metadata": {},
   "outputs": [
    {
     "data": {
      "text/plain": [
       "'p0'"
      ]
     },
     "execution_count": 13,
     "metadata": {},
     "output_type": "execute_result"
    }
   ],
   "source": [
    "\"p\"+\"0\""
   ]
  },
  {
   "cell_type": "markdown",
   "metadata": {},
   "source": [
    "# Prime Number: need to print the series of all prime numbers till N.(loops) "
   ]
  },
  {
   "cell_type": "code",
   "execution_count": 31,
   "metadata": {},
   "outputs": [
    {
     "name": "stdout",
     "output_type": "stream",
     "text": [
      "30\n",
      "2 3 5 7 11 13 17 19 23 29 "
     ]
    }
   ],
   "source": [
    "n=int(input())\n",
    "for i in range(2,n):\n",
    "    c=0\n",
    "    for j in range(2,i):\n",
    "        if i%j==0:\n",
    "            c=c+1\n",
    "    if c==0:\n",
    "        print(i,end=\" \")"
   ]
  },
  {
   "cell_type": "markdown",
   "metadata": {},
   "source": [
    "# Check the number of digits in a given number "
   ]
  },
  {
   "cell_type": "code",
   "execution_count": 33,
   "metadata": {},
   "outputs": [
    {
     "name": "stdout",
     "output_type": "stream",
     "text": [
      "prasu123\n",
      "Number of digits are 3\n"
     ]
    }
   ],
   "source": [
    "inp=input()\n",
    "c=0\n",
    "for i in inp:\n",
    "    if i.isdigit():\n",
    "        c=c+1\n",
    "print('Number of digits are',c)"
   ]
  },
  {
   "cell_type": "markdown",
   "metadata": {},
   "source": [
    "# Word Frequency: need to print words with frequency from given sentence (string) in dictionary format\n",
    "Input Format: ravi ramu balu ravi raghu\n",
    "\n",
    "Output Format: {“ravi”:2, “ramu”:1, “balu”:1, “raghu”:1}"
   ]
  },
  {
   "cell_type": "code",
   "execution_count": 1,
   "metadata": {},
   "outputs": [
    {
     "name": "stdout",
     "output_type": "stream",
     "text": [
      "ravi ramu balu ravi raghu\n",
      "{'ravi': 2, 'ramu': 1, 'balu': 1, 'raghu': 1}\n"
     ]
    }
   ],
   "source": [
    "inp=input().split()\n",
    "#word=set(inp)\n",
    "d={}\n",
    "for i in inp:\n",
    "    d[i]=inp.count(i)\n",
    "print(d)"
   ]
  },
  {
   "cell_type": "markdown",
   "metadata": {},
   "source": [
    "#  Mobile Number Validation:\n",
    "\n",
    "You have been given mobile numbers separated by “,” you need to valid those mobile numbers\n",
    "\n",
    "If valid print True otherwise False\n",
    "\n",
    "Rules:Mobile number should have 10 digits\n",
    "\n",
    "Mobile number should not contain any characters\n",
    "\n",
    "Mobile number should start with (9,8,7,6) series only \n",
    "\n",
    "Sample Input: 9885587654,5647839439,982af838281,6799867354,93o9289234\n",
    "\n",
    "Sample Output: True \n",
    "\n",
    "False\n",
    "\n",
    "False\n",
    "\n",
    "True\n",
    "\n",
    "False"
   ]
  },
  {
   "cell_type": "code",
   "execution_count": 6,
   "metadata": {},
   "outputs": [
    {
     "name": "stdout",
     "output_type": "stream",
     "text": [
      "9885587654,5647839439,982af838281,6799867354,93o9289234\n",
      "True\n",
      "True\n",
      "False\n",
      "True\n",
      "False\n"
     ]
    }
   ],
   "source": [
    "num=input().split(',')\n",
    "for i in num:\n",
    "    if len(i)==10:\n",
    "        if i.isdigit():\n",
    "            print('True')\n",
    "        else:\n",
    "            print('False')\n",
    "    else:\n",
    "        print('False')"
   ]
  },
  {
   "cell_type": "code",
   "execution_count": 3,
   "metadata": {},
   "outputs": [
    {
     "name": "stdout",
     "output_type": "stream",
     "text": [
      "5647839439\n",
      "True\n"
     ]
    }
   ],
   "source": [
    "n=input()\n",
    "print(n.isdigit())"
   ]
  },
  {
   "cell_type": "code",
   "execution_count": null,
   "metadata": {},
   "outputs": [],
   "source": [
    "inp"
   ]
  }
 ],
 "metadata": {
  "kernelspec": {
   "display_name": "Python 3",
   "language": "python",
   "name": "python3"
  },
  "language_info": {
   "codemirror_mode": {
    "name": "ipython",
    "version": 3
   },
   "file_extension": ".py",
   "mimetype": "text/x-python",
   "name": "python",
   "nbconvert_exporter": "python",
   "pygments_lexer": "ipython3",
   "version": "3.7.4"
  }
 },
 "nbformat": 4,
 "nbformat_minor": 2
}
