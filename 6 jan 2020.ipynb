{
 "cells": [
  {
   "cell_type": "markdown",
   "metadata": {},
   "source": [
    "# print all prime numbers range 50 and print num sum is even?\n",
    "\n",
    "ex:  13 is prime and sum of digits is even\n",
    "\n",
    "o/p: \n",
    "\n",
    "        13+17+......=sumprint all prime numbers range 50 and print num sum is even?"
   ]
  },
  {
   "cell_type": "code",
   "execution_count": 7,
   "metadata": {},
   "outputs": [
    {
     "name": "stdout",
     "output_type": "stream",
     "text": [
      "13\n",
      "13 0 17 1 19 2 23 3 29 4 31 5 37 6 41 7 43 8 47 9 53 10 59 11 61 12 67 13 71 14 73 15 79 16 83 17 89 18 97 19 101 20 103 21 107 22 109 23 113 24 127 25 131 26 137 27 139 28 149 29 151 30 157 31 163 32 167 33 173 34 179 35 181 36 191 37 193 38 197 39 199 40 211 41 223 42 227 43 229 44 233 45 239 46 241 47 251 48 257 49 \n",
      "6310\n"
     ]
    }
   ],
   "source": [
    "n=int(input())\n",
    "d=0\n",
    "s=0\n",
    "while(d!=50):\n",
    "    c=0\n",
    "    for j in range(2,n):\n",
    "        if n%j==0:\n",
    "            c=c+1\n",
    "    if c==0:\n",
    "        print(n,d,end=\" \")\n",
    "        s=s+n\n",
    "        d=d+1\n",
    "    n=n+1\n",
    "print(end='\\n')\n",
    "print(s)"
   ]
  },
  {
   "cell_type": "markdown",
   "metadata": {},
   "source": [
    "enter any 20 numbers and  filter even numbers and odd numbers in list format?\n",
    "\n",
    "ex:1,2,3,4,5,6,7,8,......20\n",
    "\n",
    "o/p: even=[...]\n",
    "\n",
    "         odd=[...]"
   ]
  },
  {
   "cell_type": "code",
   "execution_count": 8,
   "metadata": {},
   "outputs": [
    {
     "name": "stdout",
     "output_type": "stream",
     "text": [
      "1 2 3 4 56\n",
      "even = ['2', '4', '56']\n",
      "Odd = ['1', '3']\n"
     ]
    }
   ],
   "source": [
    "inp=input().split()\n",
    "even=[]\n",
    "odd=[]\n",
    "for i in inp:\n",
    "    if int(i)%2==0:\n",
    "        even.append(i)\n",
    "    else:\n",
    "        odd.append(i)\n",
    "print(\"even =\",even)\n",
    "print(\"Odd =\",odd)"
   ]
  },
  {
   "cell_type": "markdown",
   "metadata": {},
   "source": [
    "\n",
    "Read the numbers from input and if the input is STOP then print sum of the odd numbers only?\n",
    "\n",
    "ex:1,4,3,STOP\n",
    "\n",
    "o/p:4"
   ]
  },
  {
   "cell_type": "code",
   "execution_count": null,
   "metadata": {},
   "outputs": [],
   "source": []
  }
 ],
 "metadata": {
  "kernelspec": {
   "display_name": "Python 3",
   "language": "python",
   "name": "python3"
  },
  "language_info": {
   "codemirror_mode": {
    "name": "ipython",
    "version": 3
   },
   "file_extension": ".py",
   "mimetype": "text/x-python",
   "name": "python",
   "nbconvert_exporter": "python",
   "pygments_lexer": "ipython3",
   "version": "3.7.4"
  }
 },
 "nbformat": 4,
 "nbformat_minor": 2
}
